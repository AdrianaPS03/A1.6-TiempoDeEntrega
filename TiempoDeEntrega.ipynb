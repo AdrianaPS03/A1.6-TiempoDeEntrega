{
 "cells": [
  {
   "cell_type": "markdown",
   "metadata": {
    "id": "ZsClsWPSrJjK"
   },
   "source": [
    "# **Regresión no lineal**"
   ]
  },
  {
   "cell_type": "markdown",
   "metadata": {
    "id": "2Me95N8JrJJ7"
   },
   "source": [
    "### **Base de datos:** TiempoDeEntrega.csv"
   ]
  },
  {
   "cell_type": "markdown",
   "metadata": {
    "id": "uxm5bA47rWhd"
   },
   "source": [
    "1. Importa los datos del archivo “Tiempo de entrega.csv” a tu ambiente de trabajo. Este archivo lo encontrarás en la misma página donde descargaste esta plantilla. Genera una gráfica de dispersión que muestre el comportamiento de los datos. Agrega una línea de texto en la que generes una predicción sobre qué tipo de algoritmo será el más adecuado para resolver la tarea (no hay respuestas correctas)."
   ]
  },
  {
   "cell_type": "code",
   "execution_count": 17,
   "metadata": {
    "colab": {
     "base_uri": "https://localhost:8080/"
    },
    "id": "ZjLD5qOtrwEl",
    "outputId": "0a1b8ab6-7be3-459a-e6f7-d300c13284e1"
   },
   "outputs": [
    {
     "name": "stdout",
     "output_type": "stream",
     "text": [
      "Collecting mlinsights\n",
      "  Downloading mlinsights-0.5.1-cp311-cp311-manylinux_2_17_x86_64.manylinux2014_x86_64.whl.metadata (6.4 kB)\n",
      "Requirement already satisfied: numpy in /usr/local/lib/python3.11/dist-packages (from mlinsights) (1.26.4)\n",
      "Collecting onnx>=1.14.0 (from mlinsights)\n",
      "  Downloading onnx-1.17.0-cp311-cp311-manylinux_2_17_x86_64.manylinux2014_x86_64.whl.metadata (16 kB)\n",
      "Requirement already satisfied: scipy in /usr/local/lib/python3.11/dist-packages (from mlinsights) (1.13.1)\n",
      "Requirement already satisfied: protobuf>=3.20.2 in /usr/local/lib/python3.11/dist-packages (from onnx>=1.14.0->mlinsights) (4.25.6)\n",
      "Downloading mlinsights-0.5.1-cp311-cp311-manylinux_2_17_x86_64.manylinux2014_x86_64.whl (1.8 MB)\n",
      "\u001b[2K   \u001b[90m━━━━━━━━━━━━━━━━━━━━━━━━━━━━━━━━━━━━━━━━\u001b[0m \u001b[32m1.8/1.8 MB\u001b[0m \u001b[31m17.4 MB/s\u001b[0m eta \u001b[36m0:00:00\u001b[0m\n",
      "\u001b[?25hDownloading onnx-1.17.0-cp311-cp311-manylinux_2_17_x86_64.manylinux2014_x86_64.whl (16.0 MB)\n",
      "\u001b[2K   \u001b[90m━━━━━━━━━━━━━━━━━━━━━━━━━━━━━━━━━━━━━━━━\u001b[0m \u001b[32m16.0/16.0 MB\u001b[0m \u001b[31m31.2 MB/s\u001b[0m eta \u001b[36m0:00:00\u001b[0m\n",
      "\u001b[?25hInstalling collected packages: onnx, mlinsights\n",
      "Successfully installed mlinsights-0.5.1 onnx-1.17.0\n"
     ]
    }
   ],
   "source": [
    "pip install mlinsights"
   ]
  },
  {
   "cell_type": "code",
   "execution_count": 29,
   "metadata": {
    "id": "iIAvRVfPq_-n"
   },
   "outputs": [],
   "source": [
    "#Importar librerias\n",
    "import pandas as pd\n",
    "import matplotlib.pyplot as plt\n",
    "import numpy as np\n",
    "import scipy.stats as st\n",
    "import statsmodels.api as sm\n",
    "import seaborn as sns\n",
    "from sklearn.model_selection import train_test_split\n",
    "from sklearn.preprocessing import PolynomialFeatures\n",
    "import pwlf\n",
    "from mlinsights.mlmodel import PiecewiseRegressor\n",
    "from sklearn.neighbors import KNeighborsRegressor as KNN"
   ]
  },
  {
   "cell_type": "code",
   "execution_count": 7,
   "metadata": {
    "id": "JW3yyJc1rZ5L"
   },
   "outputs": [],
   "source": [
    "#Leer CSV\n",
    "url = 'https://raw.githubusercontent.com/AdrianaPS03/A1.6-TiempoDeEntrega/refs/heads/main/TiempoDeEntrega.csv'\n",
    "df = pd.read_csv(url)"
   ]
  },
  {
   "cell_type": "markdown",
   "metadata": {
    "id": "6B-8jVgJrfQ9"
   },
   "source": [
    "Durante el proceso se encontró (mirando más a detalle el archivo csv) que dentro de la base de datoshay filas que contienen valores tales como 'NA', conjuntos de símbolos que no hacen mucho sentido como '$#%', y un total de 11 líneas con solo comas. Esto podría estar causando problemas a la hora de gráficar los datos, por lo que se eliminaron del archivo manualmente, resolviendo así el problema con la gráficación de datos."
   ]
  },
  {
   "cell_type": "code",
   "execution_count": 8,
   "metadata": {
    "colab": {
     "base_uri": "https://localhost:8080/",
     "height": 448
    },
    "id": "lyCV1wOhrdjl",
    "outputId": "700fb2e8-d5c0-4af1-d6f7-12d4abd66dbf"
   },
   "outputs": [
    {
     "data": {
      "text/plain": [
       "<matplotlib.collections.PathCollection at 0x7f76d68fef90>"
      ]
     },
     "execution_count": 8,
     "metadata": {},
     "output_type": "execute_result"
    },
    {
     "data": {
      "image/png": "[encoded data removed]",
      "text/plain": [
       "<Figure size 640x480 with 1 Axes>"
      ]
     },
     "metadata": {},
     "output_type": "display_data"
    }
   ],
   "source": [
    "plt.scatter(df['Tiempo'], df['Calificacion'], alpha=0.5)"
   ]
  },
  {
   "cell_type": "markdown",
   "metadata": {
    "id": "3G1-W7RurmVO"
   },
   "source": [
    "Al gráficar los puntos se encontró también que es probable que haya valores que puedan ser considerados outliers dentro de la base de datos. A continuación se realizará un análisis de estos para comprobar si son o no son outliers."
   ]
  },
  {
   "cell_type": "code",
   "execution_count": 9,
   "metadata": {
    "colab": {
     "base_uri": "https://localhost:8080/"
    },
    "id": "8c5Z9VafrmAo",
    "outputId": "cfe0b953-5619-4656-ba12-4b9f4c147622"
   },
   "outputs": [
    {
     "name": "stdout",
     "output_type": "stream",
     "text": [
      "          Tiempo  Calificacion\n",
      "0      85.076389      85.00000\n",
      "1      84.675556      85.00000\n",
      "2      79.553889     110.00000\n",
      "3      75.310556     110.00000\n",
      "4      64.958611     110.00000\n",
      "5      58.157778     110.00000\n",
      "6      56.238611     110.00000\n",
      "7      55.903056     110.00000\n",
      "8      52.465556     103.00000\n",
      "9      51.998333      96.00000\n",
      "27     76.101944     110.00000\n",
      "28     65.141667     110.00000\n",
      "29   4960.167000     110.00000\n",
      "54    124.434722     110.00000\n",
      "55     82.725278     110.00000\n",
      "56     79.490278     110.00000\n",
      "57     77.231111     110.00000\n",
      "58     57.590556     110.00000\n",
      "59     54.765833     110.00000\n",
      "81    132.637500     110.00000\n",
      "82     54.129444      80.00000\n",
      "83     52.095833      70.00000\n",
      "84     50.952500     110.00000\n",
      "107  -100.000000       0.00000\n",
      "108   177.090000     110.00000\n",
      "109    79.073889     110.00000\n",
      "110    61.739722     110.00000\n",
      "111    52.792222      55.00000\n",
      "135   299.986667     110.00000\n",
      "136   220.310833     110.00000\n",
      "137   202.196111      91.66666\n",
      "138   199.105833     110.00000\n",
      "139    78.876944     110.00000\n",
      "162    79.490000     110.00000\n",
      "163    52.315278     110.00000\n",
      "164    49.581667     110.00000\n",
      "189    80.220833     105.41500\n",
      "190    53.360000     110.00000\n",
      "216    80.030278     110.00000\n",
      "217    79.009167      82.50000\n",
      "218    73.603611     110.00000\n",
      "219    58.634444     110.00000\n",
      "220    54.006667     110.00000\n",
      "221    52.070278     110.00000\n",
      "243    96.319167     110.00000\n",
      "244    52.374167     110.00000\n",
      "270   102.745278     110.00000\n",
      "271    74.967500     110.00000\n",
      "272    73.911389     110.00000\n",
      "273    57.248333      88.00000\n",
      "274    55.072222     110.00000\n",
      "275    49.632500     110.00000\n",
      "297    55.669444     110.00000\n",
      "324   269.995278     110.00000\n",
      "378   135.675833      82.50000\n"
     ]
    }
   ],
   "source": [
    "# Outliers para Tiempo\n",
    "q1 = df.Tiempo.quantile(0.25)\n",
    "q3 = df.Tiempo.quantile(0.75)\n",
    "# Rango intercuartil\n",
    "iqr = q3 - q1\n",
    "# Límite inferior\n",
    "li = q1 - (3 * iqr)\n",
    "# Límite superior\n",
    "ls = q3 + (3 * iqr)\n",
    "# Observaciones fuera de cualquiera de los dos límites por k = 3\n",
    "out = np.where((df.Tiempo <= li) | (df.Tiempo >= ls))[0]\n",
    "print(df.iloc[out,:])"
   ]
  },
  {
   "cell_type": "markdown",
   "metadata": {
    "id": "mL7_-hinte9c"
   },
   "source": [
    "Gracias a la descripción de las variables se conoce que el valor del tiempo está entre 1 y 48, y se podría asumir que 0 representa 'no entregado'. Como es imposible saber desde cuándo se abrió la bandeja, números cercanos a 48 son rangos aceptables de tiempo, pero lo mismo no se puede decir de números negativos o de números mayores a 100. Por lo tanto se procederá a eliminar los registros con tiempo mayor o igual que 100 y los registros con tiempo negativo para evitar que haya ruido en el modelo y en la gráfica."
   ]
  },
  {
   "cell_type": "code",
   "execution_count": 10,
   "metadata": {
    "colab": {
     "base_uri": "https://localhost:8080/",
     "height": 448
    },
    "id": "BEx4TNimrijm",
    "outputId": "663bb995-2f20-40a1-c068-9a24cfba242b"
   },
   "outputs": [
    {
     "data": {
      "text/plain": [
       "<matplotlib.collections.PathCollection at 0x7f76d47c8790>"
      ]
     },
     "execution_count": 10,
     "metadata": {},
     "output_type": "execute_result"
    },
    {
     "data": {
      "image/png": "[encoded data removed]",
      "text/plain": [
       "<Figure size 640x480 with 1 Axes>"
      ]
     },
     "metadata": {},
     "output_type": "display_data"
    }
   ],
   "source": [
    "out = np.where((df.Tiempo <= 0) | (df.Tiempo >= 100))[0]\n",
    "df.drop(out, axis=0, inplace=True)\n",
    "plt.scatter(df['Tiempo'], df['Calificacion'], alpha=0.5)"
   ]
  },
  {
   "cell_type": "markdown",
   "metadata": {
    "id": "ruRvaWkQtmNQ"
   },
   "source": [
    "Gracias a estas modificaciones a la base de datos, ahora se puede apreciar la gráfica con mayor claridad. Igualmente se podría decir que es muy poco probable que los datos tengan una relación lineal."
   ]
  },
  {
   "cell_type": "markdown",
   "metadata": {
    "id": "UeJ0S5s3tmBj"
   },
   "source": [
    "2. Separa los datos en entrenamiento y prueba, con una relación de 70/30. Imprime en consola el promedio de los tiempos en el conjunto de entrenamiento y en el conjunto de prueba. Haz lo mismo para las calificaciones. Incluye una línea de texto donde comentes sobre la similitud o diferencia de los valores promedio entre el conjunto de entrenamiento y el de validación, y cómo es que esto podría afectar al análisis."
   ]
  },
  {
   "cell_type": "code",
   "execution_count": 11,
   "metadata": {
    "colab": {
     "base_uri": "https://localhost:8080/"
    },
    "id": "ueMn2OyFtkPL",
    "outputId": "64edefb1-21d3-49b1-9d65-4573f9e168d2"
   },
   "outputs": [
    {
     "name": "stdout",
     "output_type": "stream",
     "text": [
      "Promedio de Tiempo en los datos de entrenamiento:  Tiempo    14.040686\n",
      "dtype: float64\n",
      "Promedio de Tiempo en los datos de validación:  Tiempo    14.74109\n",
      "dtype: float64\n",
      "Promedio de Calificacion en los datos de entrenamiento:  96.43160141843973\n",
      "Promedio de Calificaion en los datos de validación:  95.78661694214877\n"
     ]
    }
   ],
   "source": [
    "x = df[['Tiempo']]\n",
    "y = df['Calificacion']\n",
    "x_train, x_test, y_train, y_test = train_test_split(x, y, test_size=0.3, random_state=0)\n",
    "print('Promedio de Tiempo en los datos de entrenamiento: ', x_train.mean())\n",
    "print('Promedio de Tiempo en los datos de validación: ', x_test.mean())\n",
    "print('Promedio de Calificacion en los datos de entrenamiento: ', y_train.mean())\n",
    "print('Promedio de Calificaion en los datos de validación: ', y_test.mean())"
   ]
  },
  {
   "cell_type": "markdown",
   "metadata": {
    "id": "vXP5CuCEtt6-"
   },
   "source": [
    "Observando la información anterior, se puede ver que el promedio entre los datos de prueba y los datos de validación para ambas variables es muy similar, con diferencia de apenas decimas."
   ]
  },
  {
   "cell_type": "markdown",
   "metadata": {
    "id": "LjjSNLadt35O"
   },
   "source": [
    "3. Entrena un modelo de regresión polinomial usando los datos de entrenamiento; puedes usar el orden de polinomial que consideres más adecuado. Imprime un resumen de los resultados obtenidos y agrega una línea de texto en la que comentes sobre el tipo de relación (positiva o negativa; ¿a menor tiempo menor calificación?) entre el término lineal y la respuesta, lo que esto significa y si dicha variable está significativamente asociada con las calificaciones."
   ]
  },
  {
   "cell_type": "code",
   "execution_count": 13,
   "metadata": {
    "colab": {
     "base_uri": "https://localhost:8080/"
    },
    "id": "AtWzaqj_trOp",
    "outputId": "8536ad57-94fb-4391-f52a-b708f859fecf"
   },
   "outputs": [
    {
     "name": "stdout",
     "output_type": "stream",
     "text": [
      "                            OLS Regression Results                            \n",
      "==============================================================================\n",
      "Dep. Variable:           Calificacion   R-squared:                       0.035\n",
      "Model:                            OLS   Adj. R-squared:                  0.029\n",
      "Method:                 Least Squares   F-statistic:                     5.132\n",
      "Date:                Thu, 13 Feb 2025   Prob (F-statistic):            0.00648\n",
      "Time:                        14:30:14   Log-Likelihood:                -1253.4\n",
      "No. Observations:                 282   AIC:                             2513.\n",
      "Df Residuals:                     279   BIC:                             2524.\n",
      "Df Model:                           2                                         \n",
      "Covariance Type:            nonrobust                                         \n",
      "==============================================================================\n",
      "                 coef    std err          t      P>|t|      [0.025      0.975]\n",
      "------------------------------------------------------------------------------\n",
      "const         92.4861      1.813     51.010      0.000      88.917      96.055\n",
      "Tiempo         0.4469      0.194      2.299      0.022       0.064       0.829\n",
      "Tiempo^2      -0.0039      0.003     -1.475      0.141      -0.009       0.001\n",
      "==============================================================================\n",
      "Omnibus:                       97.458   Durbin-Watson:                   1.803\n",
      "Prob(Omnibus):                  0.000   Jarque-Bera (JB):              230.618\n",
      "Skew:                          -1.684   Prob(JB):                     8.35e-51\n",
      "Kurtosis:                       5.878   Cond. No.                     2.35e+03\n",
      "==============================================================================\n",
      "\n",
      "Notes:\n",
      "[1] Standard Errors assume that the covariance matrix of the errors is correctly specified.\n",
      "[2] The condition number is large, 2.35e+03. This might indicate that there are\n",
      "strong multicollinearity or other numerical problems.\n"
     ]
    }
   ],
   "source": [
    "# Aplicar transformación polinomial de grado 2\n",
    "poly = PolynomialFeatures(degree=2, include_bias=False)\n",
    "x_train_poly = poly.fit_transform(x_train)\n",
    "# Convertir a DataFrame con nombres de columnas adecuados\n",
    "x_train_poly_df = pd.DataFrame(x_train_poly, columns=poly.get_feature_names_out(['Tiempo']))\n",
    "x_train_poly_df.reset_index(drop=True, inplace=True)\n",
    "y_train = y_train.reset_index(drop=True)\n",
    "# Agregar una columna de constantes para la regresión\n",
    "x_train_poly_df = sm.add_constant(x_train_poly_df)\n",
    "# Crear y entrenar el modelo con statsmodels\n",
    "model = sm.OLS(y_train, x_train_poly_df).fit()\n",
    "# Mostrar el resumen del modelo\n",
    "print(model.summary())"
   ]
  },
  {
   "cell_type": "markdown",
   "metadata": {
    "id": "m5G96SXkt7ue"
   },
   "source": [
    "Este modelo no tiene sentido. Se puede ver claramente al analizar la R^2 que es de menos del 0.05, lo cuál inidica en realidad que este modelo explica un 3% de los datos que se usaron para entrenarlo. Además de esto, al subir el grado es muy poco probable que el modelo mejor mucho y al agregar más grados es probable también que se encuentren problemas de multicolinealidad."
   ]
  },
  {
   "cell_type": "markdown",
   "metadata": {
    "id": "lwVzcDDLt_dF"
   },
   "source": [
    "4. Entrena un modelo de regresión segmentada, siguiendo la misma estrategia utilizada en la lectura interactiva, utilizando regresiones cuadráticas para cada segmento. Genera estimaciones (predicciones) en los datos de validación. Asegúrate de usar la función descrita en la lectura interactiva, instalándola en tu ambiente de trabajo en caso de no haberlo hecho previamente."
   ]
  },
  {
   "cell_type": "code",
   "execution_count": 27,
   "metadata": {
    "colab": {
     "base_uri": "https://localhost:8080/"
    },
    "id": "8t5I9mWZt65z",
    "outputId": "93c2ab37-bd27-41f6-8bea-97eea04260d3"
   },
   "outputs": [
    {
     "name": "stdout",
     "output_type": "stream",
     "text": [
      "21.214278677213578\n"
     ]
    }
   ],
   "source": [
    "Xtemp_train = x_train.values.reshape(-1,1)\n",
    "Xtemp_test = x_test.values.reshape(-1,1)\n",
    "polyq_train = PolynomialFeatures(degree=2).fit(Xtemp_train)\n",
    "polyq_test = PolynomialFeatures(degree=2).fit(Xtemp_test)\n",
    "xq_train = pd.DataFrame(polyq_train.transform(Xtemp_train))\n",
    "xq_test = pd.DataFrame(polyq_test.transform(Xtemp_test))\n",
    "ms = PiecewiseRegressor('bins').fit(xq_train.iloc[:,1:],y_train)\n",
    "yHat_ms = ms.predict(xq_test.iloc[:,1:])\n",
    "RSS_ms = sum((list(y_test)-yHat_ms)**2)\n",
    "RSE_ms = np.sqrt(RSS_ms/(len(y_test)-1))\n",
    "print(RSE_ms)"
   ]
  },
  {
   "cell_type": "code",
   "execution_count": 28,
   "metadata": {
    "colab": {
     "base_uri": "https://localhost:8080/",
     "height": 448
    },
    "id": "b7ugc6LKxLWl",
    "outputId": "9ad933d4-c1ae-4c8f-8e83-b1765e62228f"
   },
   "outputs": [
    {
     "data": {
      "text/plain": [
       "<matplotlib.legend.Legend at 0x7f76d40625d0>"
      ]
     },
     "execution_count": 28,
     "metadata": {},
     "output_type": "execute_result"
    },
    {
     "data": {
      "image/png": "[encoded data removed]",
      "text/plain": [
       "<Figure size 640x480 with 1 Axes>"
      ]
     },
     "metadata": {},
     "output_type": "display_data"
    }
   ],
   "source": [
    "plt.scatter(x_test,y_test)\n",
    "plt.plot(x_test,yHat_ms,\"r.\",label=\"piecewise\")\n",
    "plt.legend()"
   ]
  },
  {
   "cell_type": "markdown",
   "metadata": {
    "id": "sLJWQAEyxm6p"
   },
   "source": [
    "El modelo parece estar haciendo un trabajo regular, algunos puntos se encuentarn sobre los originales, pero la mayoría estan bastante lejos."
   ]
  },
  {
   "cell_type": "markdown",
   "metadata": {
    "id": "uoC4v1jJx-cr"
   },
   "source": [
    "5. Entrena un modelo KNN para regresión utilizando el valor de k que consideres adecuado (o prueba con varios). Genera estimaciones en los datos de validación."
   ]
  },
  {
   "cell_type": "code",
   "execution_count": 30,
   "metadata": {
    "colab": {
     "base_uri": "https://localhost:8080/"
    },
    "id": "dS9WuMTYxjOU",
    "outputId": "6e12f1c4-a4e9-4cb2-c56d-fccb0739d3d8"
   },
   "outputs": [
    {
     "name": "stdout",
     "output_type": "stream",
     "text": [
      "21.149867931171613\n"
     ]
    }
   ],
   "source": [
    "mk = KNN(n_neighbors=15).fit(Xtemp_train,y_train)\n",
    "yHat_mk = mk.predict(Xtemp_test)\n",
    "RSS_mk = sum((list(y_test)-yHat_mk)**2)\n",
    "RSE_mk = np.sqrt(RSS_mk/(len(y_test)-1))\n",
    "print(RSE_mk)"
   ]
  },
  {
   "cell_type": "code",
   "execution_count": 31,
   "metadata": {
    "colab": {
     "base_uri": "https://localhost:8080/",
     "height": 448
    },
    "id": "eQwTt4ryyXwD",
    "outputId": "e160a843-bc9f-4458-f5fb-63bf86fe1558"
   },
   "outputs": [
    {
     "data": {
      "text/plain": [
       "<matplotlib.legend.Legend at 0x7f76d3cba9d0>"
      ]
     },
     "execution_count": 31,
     "metadata": {},
     "output_type": "execute_result"
    },
    {
     "data": {
      "image/png": "[encoded data removed]",
      "text/plain": [
       "<Figure size 640x480 with 1 Axes>"
      ]
     },
     "metadata": {},
     "output_type": "display_data"
    }
   ],
   "source": [
    "plt.scatter(x_test,y_test)\n",
    "plt.plot(x_test,yHat_mk,\"r.\",label=\"knn\")\n",
    "plt.legend()"
   ]
  },
  {
   "cell_type": "markdown",
   "metadata": {
    "id": "FdwZJUCwyn6r"
   },
   "source": [
    "Este modelo realiza un trabajo muy similar al modelo segmentado. No es un buen trabajo, pero tampoco un terrible trabajo. Esto nos dice que los modelos no son el problema, sino los datos, que parecerían no tener una relación que pueda ser predicha con los tres modelos probados."
   ]
  },
  {
   "cell_type": "markdown",
   "metadata": {
    "id": "aAbfRPqly_0B"
   },
   "source": [
    "6. Calcula el RSE en los datos de prueba para los 3 modelos y agrega una línea de texto donde comentes sobre sus diferencias y si hay un claro “ganador”. No te bases exclusivamente en el error, puedes considerar también aspectos como la interpretabilidad del modelo."
   ]
  },
  {
   "cell_type": "markdown",
   "metadata": {
    "id": "T4zRFVT5zD8F"
   },
   "source": [
    "Anteriormente se calcularon los RSE de los modelos, y el mejor fue el modelo de segmentación por un par de décimas, esto quiere decir que, aunque no es el mejor en predecir o explicar los datos en la base de datos, es el mejor de los tres que se implementaron."
   ]
  },
  {
   "cell_type": "markdown",
   "metadata": {
    "id": "NZbKHLsLzj_j"
   },
   "source": [
    "*\"Doy mi palabra de que he realizado esta catividad con integridad académica.*"
   ]
  }
 ],
 "metadata": {
  "colab": {
   "provenance": []
  },
  "kernelspec": {
   "display_name": "Python 3 (ipykernel)",
   "language": "python",
   "name": "python3"
  },
  "language_info": {
   "codemirror_mode": {
    "name": "ipython",
    "version": 3
   },
   "file_extension": ".py",
   "mimetype": "text/x-python",
   "name": "python",
   "nbconvert_exporter": "python",
   "pygments_lexer": "ipython3",
   "version": "3.12.3"
  }
 },
 "nbformat": 4,
 "nbformat_minor": 4
}
